{
  "nbformat": 4,
  "nbformat_minor": 0,
  "metadata": {
    "colab": {
      "provenance": [],
      "authorship_tag": "ABX9TyP5dOZXJ0gxpwzdueUATC1c",
      "include_colab_link": true
    },
    "kernelspec": {
      "name": "python3",
      "display_name": "Python 3"
    },
    "language_info": {
      "name": "python"
    }
  },
  "cells": [
    {
      "cell_type": "markdown",
      "metadata": {
        "id": "view-in-github",
        "colab_type": "text"
      },
      "source": [
        "<a href=\"https://colab.research.google.com/github/sbohorqueza/Diplomado_Ciencia_Datos/blob/main/Tarea_4_P2_Santiago_Bohorquez.ipynb\" target=\"_parent\"><img src=\"https://colab.research.google.com/assets/colab-badge.svg\" alt=\"Open In Colab\"/></a>"
      ]
    },
    {
      "cell_type": "markdown",
      "source": [
        "3. Escriba una clase con las siguientes funcionalidades:\n",
        "* Al instanciar un objeto, lee un conjunto de datos numéricos. Por ejemplo puede usar el mismo conjunto de datos iris.csv. Instancie los datos en un dataframe de Pandas.\n",
        "* Implemente un método que calcule las estadísticas descriptivas básicas de cada una de las variables (sepal.length, sepal.width, petal.length, etc)\n",
        "* Implemente un método que entregue los nombre de las variables disponibles.\n",
        "* Implemente un método que reciba el nombre de una variable disponible dentro del objeto (en el dataframe) y regrese: sus estadísticas básicas: media, mediana, desviación, percentiles q25, q50, q75 y dibuje un histograma de la distribución de la variable."
      ],
      "metadata": {
        "id": "GXET6EILmZJB"
      }
    },
    {
      "cell_type": "code",
      "source": [
        "import pandas as pd"
      ],
      "metadata": {
        "id": "1U8hh3qYu3Gs"
      },
      "execution_count": 1,
      "outputs": []
    },
    {
      "cell_type": "code",
      "source": [
        "class StatClass:\n",
        "  def __init__(self, path='/content/iris.csv'):\n",
        "    self.datos = pd.read_csv(path)\n",
        "    self.variables = list(self.datos.columns)\n",
        "\n",
        "  def genStats(self):\n",
        "    for variable in self.variables:\n",
        "      print(self.datos[variable].describe(),\"\\n\")\n",
        "\n",
        "\n",
        "  def getVariables(self):\n",
        "    return self.variables\n",
        "\n",
        "  def specStats(self, variable=''):\n",
        "    try:\n",
        "      print(self.datos[variable].describe())\n",
        "      self.datos[variable].hist()\n",
        "    except:\n",
        "      print(\"Variable no encontrada\")"
      ],
      "metadata": {
        "id": "A0xUy5cYmg8v"
      },
      "execution_count": 4,
      "outputs": []
    },
    {
      "cell_type": "code",
      "source": [
        "primera_instancia = StatClass()"
      ],
      "metadata": {
        "id": "8tABuLFzu75X"
      },
      "execution_count": 5,
      "outputs": []
    },
    {
      "cell_type": "code",
      "source": [
        "primera_instancia.genStats()"
      ],
      "metadata": {
        "colab": {
          "base_uri": "https://localhost:8080/"
        },
        "id": "rBmcXUE_vaab",
        "outputId": "88bbeda2-006d-4f4f-da3f-adf538915519"
      },
      "execution_count": 8,
      "outputs": [
        {
          "output_type": "stream",
          "name": "stdout",
          "text": [
            "count    150.000000\n",
            "mean       5.843333\n",
            "std        0.828066\n",
            "min        4.300000\n",
            "25%        5.100000\n",
            "50%        5.800000\n",
            "75%        6.400000\n",
            "max        7.900000\n",
            "Name: sepal.length, dtype: float64 \n",
            "\n",
            "count    150.000000\n",
            "mean       3.057333\n",
            "std        0.435866\n",
            "min        2.000000\n",
            "25%        2.800000\n",
            "50%        3.000000\n",
            "75%        3.300000\n",
            "max        4.400000\n",
            "Name: sepal.width, dtype: float64 \n",
            "\n",
            "count    150.000000\n",
            "mean       3.758000\n",
            "std        1.765298\n",
            "min        1.000000\n",
            "25%        1.600000\n",
            "50%        4.350000\n",
            "75%        5.100000\n",
            "max        6.900000\n",
            "Name: petal.length, dtype: float64 \n",
            "\n",
            "count    150.000000\n",
            "mean       1.199333\n",
            "std        0.762238\n",
            "min        0.100000\n",
            "25%        0.300000\n",
            "50%        1.300000\n",
            "75%        1.800000\n",
            "max        2.500000\n",
            "Name: petal.width, dtype: float64 \n",
            "\n",
            "count        150\n",
            "unique         3\n",
            "top       Setosa\n",
            "freq          50\n",
            "Name: variety, dtype: object \n",
            "\n"
          ]
        }
      ]
    },
    {
      "cell_type": "code",
      "source": [
        "primera_instancia.getVariables()"
      ],
      "metadata": {
        "colab": {
          "base_uri": "https://localhost:8080/"
        },
        "id": "eScuVDJQvkpw",
        "outputId": "00ffc93f-f780-4d6e-fd0f-091232de937b"
      },
      "execution_count": 9,
      "outputs": [
        {
          "output_type": "execute_result",
          "data": {
            "text/plain": [
              "['sepal.length', 'sepal.width', 'petal.length', 'petal.width', 'variety']"
            ]
          },
          "metadata": {},
          "execution_count": 9
        }
      ]
    },
    {
      "cell_type": "code",
      "source": [
        "primera_instancia.specStats(\"petal.length\")"
      ],
      "metadata": {
        "colab": {
          "base_uri": "https://localhost:8080/",
          "height": 586
        },
        "id": "CqNcPG9CvBNG",
        "outputId": "918f9718-942c-4b37-e206-b8aecac3f274"
      },
      "execution_count": 6,
      "outputs": [
        {
          "output_type": "stream",
          "name": "stdout",
          "text": [
            "count    150.000000\n",
            "mean       3.758000\n",
            "std        1.765298\n",
            "min        1.000000\n",
            "25%        1.600000\n",
            "50%        4.350000\n",
            "75%        5.100000\n",
            "max        6.900000\n",
            "Name: petal.length, dtype: float64\n"
          ]
        },
        {
          "output_type": "display_data",
          "data": {
            "text/plain": [
              "<Figure size 640x480 with 1 Axes>"
            ],
            "image/png": "[encoded data removed]"
          },
          "metadata": {}
        }
      ]
    },
    {
      "cell_type": "code",
      "source": [
        "for variable in primera_instancia.getVariables():\n",
        "  primera_instancia.specStats(variable)"
      ],
      "metadata": {
        "colab": {
          "base_uri": "https://localhost:8080/",
          "height": 1000
        },
        "id": "LrzbkimSvpYG",
        "outputId": "2b463ba2-d6c1-4787-a043-9d5dc50f134f"
      },
      "execution_count": 10,
      "outputs": [
        {
          "output_type": "stream",
          "name": "stdout",
          "text": [
            "count    150.000000\n",
            "mean       5.843333\n",
            "std        0.828066\n",
            "min        4.300000\n",
            "25%        5.100000\n",
            "50%        5.800000\n",
            "75%        6.400000\n",
            "max        7.900000\n",
            "Name: sepal.length, dtype: float64\n",
            "count    150.000000\n",
            "mean       3.057333\n",
            "std        0.435866\n",
            "min        2.000000\n",
            "25%        2.800000\n",
            "50%        3.000000\n",
            "75%        3.300000\n",
            "max        4.400000\n",
            "Name: sepal.width, dtype: float64\n",
            "count    150.000000\n",
            "mean       3.758000\n",
            "std        1.765298\n",
            "min        1.000000\n",
            "25%        1.600000\n",
            "50%        4.350000\n",
            "75%        5.100000\n",
            "max        6.900000\n",
            "Name: petal.length, dtype: float64\n",
            "count    150.000000\n",
            "mean       1.199333\n",
            "std        0.762238\n",
            "min        0.100000\n",
            "25%        0.300000\n",
            "50%        1.300000\n",
            "75%        1.800000\n",
            "max        2.500000\n",
            "Name: petal.width, dtype: float64\n",
            "count        150\n",
            "unique         3\n",
            "top       Setosa\n",
            "freq          50\n",
            "Name: variety, dtype: object\n"
          ]
        },
        {
          "output_type": "display_data",
          "data": {
            "text/plain": [
              "<Figure size 640x480 with 1 Axes>"
            ],
            "image/png": "[encoded data removed]"
          },
          "metadata": {}
        }
      ]
    },
    {
      "cell_type": "code",
      "source": [],
      "metadata": {
        "id": "xMLOL16pv2i-"
      },
      "execution_count": null,
      "outputs": []
    }
  ]
}